{
 "cells": [
  {
   "cell_type": "markdown",
   "metadata": {},
   "source": [
    "# Acknowledgement & Revision Notice\n",
    "\n",
    "This lab session material has been adapted and modified based on previous works by multiple contributors. The original tutorial was written by [Justin Johnson](https://web.eecs.umich.edu/~justincj/) for CS231n and later adapted as a Jupyter notebook for CS228 by [Volodymyr Kuleshov](http://web.stanford.edu/~kuleshov/) and [Isaac Caswell](https://symsys.stanford.edu/viewing/symsysaffiliate/21335). The current version with Python 3 support was further adapted by Kevin Zakka for the Spring 2020 edition of [CS231n](http://cs231n.stanford.edu/)."
   ]
  },
  {
   "cell_type": "markdown",
   "metadata": {},
   "source": [
    "# Jupyter Notebook 사용하기\n",
    "\n",
    "Jupyter notebook은 여러개의 <b>셀(cell)</b>로 구성되어 있으며 각각의 cell 은 <b>Python 코드</b> 또는 <b>설명(텍스트)</b>을 담을 수 있습니다.\n",
    "\n",
    "셀은 크게 두 가지 유형으로 나뉩니다:\n",
    "- `Code` cell : Python 코드를 작성하고 실행할 수 있습니다.\n",
    "- `Markdown` cell: 설명을 작성할 수 있으며, Markdown 문법을 활용하여 텍스트를 꾸밀 수 있습니다.\n",
    "\n",
    "현재 보고 있는 이 cell은 `Markdown` cell 입니다\n",
    "\n",
    "### 셀 편집 및 실행 방법\n",
    "\n",
    "- `Markdown` 셀 수정: 더블클릭하면 편집 모드로 전환됩니다.\n",
    "- Cell 실행: 원하는 셀을 선택한 후 `Shift + Enter`를 입력합니다.\n",
    "  - `Code` 셀인 경우 → 코드가 실행되며, 실행 결과가 셀 아래에 출력됩니다.\n",
    "  - `Markdown` 셀인 경우 → Markdown 문법이 적용된 형태로 렌더링됩니다.\n",
    "\n",
    "\n",
    "아래는 `Code` cell입니다."
   ]
  },
  {
   "cell_type": "code",
   "execution_count": null,
   "metadata": {
    "tags": [
     "execute_cell"
    ]
   },
   "outputs": [],
   "source": [
    "x = 1\n",
    "print(x)"
   ]
  },
  {
   "cell_type": "markdown",
   "metadata": {},
   "source": [
    "Cell간에는 전역 변수들이 공유됩니다."
   ]
  },
  {
   "cell_type": "code",
   "execution_count": null,
   "metadata": {
    "tags": [
     "execute_cell"
    ]
   },
   "outputs": [],
   "source": [
    "y = 2 * x\n",
    "print(y)"
   ]
  },
  {
   "cell_type": "markdown",
   "metadata": {},
   "source": [
    "### Keyboard Shortcuts (단축키)\n",
    "\n",
    "* `esc`: 셀(Cell) 편집 종료 및 **명령 모드**로 전환\n",
    "* 셀 이동: 화살표 (`↑`, `↓`)를 사용하여 cell간에 이동할 수 있다.\n",
    "* 셀 추가:\n",
    "  - `b`: 현재 cell 아래에 새로운 cell 삽입\n",
    "  - `a`: 현재 cell 위에 새로운 cell 삽입\n",
    "* 셀 삭제: `dd` (연속 두 번 입력)\n",
    "* 셀 타입 변경:\n",
    "  - `m` : cell을 `Markdown`으로 변경 (명령 모드 `Esc` 상태여야 함)\n",
    "  - `y` : cell을 `Code`으로 변경 (명령 모드 `Esc` 상태여야 함)\n",
    "\n",
    "### 커널(Kernel) 관리\n",
    "\n",
    "Jupyter Notebook에서 **커널(Kernel)** 은 코드 실행을 담당하는 프로세스로, 실행 중 오류가 발생하거나 모든 변수를 초기화하려면 커널을 재시작해야 합니다.\n",
    "\n",
    "- **커널 재시작**: `Kernel -> Restart` 을 통해 파이썬 커널을 재시작할 수 있습니다 (코드 실행결과는 그대로 유지됨)\n",
    "- **커널 재시작 및 초기화**: `Kernel -> Restart & Clear Output` 을 통해 커널을 재시작하고 모든 코드 실행결과를 삭제할 수 있습니다\n",
    "- **전체 셀 실행**: `Run -> Run All Cell` 를 클릭하면 노트북의 모든 셀이 위에서 아래로 순차적으로 실행됩니다.\n",
    "\n",
    "Jupyter Notebook은 **위에서 아래로 실행하는 것이 원칙**입니다.  \n",
    "커널을 재시작하면 모든 변수와 함수 정의가 사라지므로, **모든 Cell을 처음부터 다시 실행해야 합니다**.  \n",
    "특정 셀을 건너뛰거나 순서를 바꾸어 실행하면 **변수나 함수가 정의되지 않거나 예상치 못한 오류**가 발생할 수 있습니다.\n",
    "\n",
    "커널을 재시작 한 뒤 위의 `y = 2 * x ` 셀을 실행하여 무슨 일이 일어나는지 확인해보세요."
   ]
  },
  {
   "cell_type": "markdown",
   "metadata": {},
   "source": [
    "# Python Essentials\n",
    "Python은 **범용 프로그래밍 언어**(General-purpose programming language)로 널리 사용되며, 특히, `NumPy`, `SciPy`, `Matplotlib` 등의 라이브러리와 함께 사용하면 데이터 분석, 수치 계산, 시각화를 포함한 다양한 작업을 매우 효과적으로 수행할 수 있습니다.\n",
    "\n",
    "이번 실습에서는 다음과 같은 핵심 개념을 다룹니다:\n",
    "\n",
    "* 파이썬 기본 문법 및 데이터 타입 (Containers, Lists, Dictionaries, Sets, Tuples)\n",
    "* 함수와 클래스와 객체 지향 프로그래밍\n",
    "* 매직 메서드\n",
    "* 컨텍스트 관리자\n",
    "\n",
    "## 파이썬의 특징\n",
    "Python은 고수준(High-level), 동적 타이핑(Dynamically typed) 을 지원하는 다중 패러다임(Multiparadigm) 프로그래밍 언어입니다.  \n",
    "즉, Python은 절차적(Procedural), 객체 지향(Object-oriented), 함수형(Functional) 프로그래밍을 모두 지원하며, 코드가 간결하면서도 강력한 표현력을 가집니다.\n",
    "\n",
    "Python 코드는 종종 **의사 코드(Pseudocode)** 와 유사하다고 평가될 정도로 직관적이며, **적은 코드 라인**으로도 복잡한 개념을 쉽게 표현할 수 있을 뿐만 아니라 **가독성** 또한 뛰어납니다.\n",
    "\n",
    "예를 들어, 아래는 **Python을 이용한 퀵소트(Quicksort) 알고리즘**의 구현입니다:"
   ]
  },
  {
   "cell_type": "code",
   "execution_count": null,
   "metadata": {
    "tags": [
     "execute_cell"
    ]
   },
   "outputs": [],
   "source": [
    "def quicksort(arr):\n",
    "    if len(arr) <= 1:\n",
    "        return arr\n",
    "    pivot = arr[len(arr) // 2]\n",
    "    left = [x for x in arr if x < pivot]\n",
    "    middle = [x for x in arr if x == pivot]\n",
    "    right = [x for x in arr if x > pivot]\n",
    "    return quicksort(left) + middle + quicksort(right)\n",
    "\n",
    "print(quicksort([3,6,8,10,1,2,1]))"
   ]
  },
  {
   "cell_type": "markdown",
   "metadata": {},
   "source": [
    "### Python versions\n",
    "Python은 크게 **2.x**와 **3.x** 버전으로 나뉩니다.  \n",
    "Python 3.0이 출시되면서 **기존 2.x 코드와의 호환성이 중단되는 큰 변화**가 있었습니다.  \n",
    "\n",
    "현재 Python 2.x는 2020년 1월부로 공식 지원이 종료되었으며,  \n",
    "대부분의 최신 라이브러리는 Python 3.x에서만 정상적으로 동작합니다.\n",
    "\n",
    "따라서, 최신 기능과 안정성을 고려하여  \n",
    "딥러닝 및 머신러닝을 위한 작업에서는 Python 3.8 이상 사용을 권장합니다."
   ]
  },
  {
   "cell_type": "code",
   "execution_count": null,
   "metadata": {
    "tags": [
     "execute_cell"
    ]
   },
   "outputs": [],
   "source": [
    "!python --version"
   ]
  },
  {
   "cell_type": "markdown",
   "metadata": {},
   "source": [
    "## Basic data types\n",
    "### 숫자형 (Numeric)\n",
    "정수(Integers), 실수(floats), 복소수 (Complex number)에 대한 사칙연산이 잘 정의되어 있다."
   ]
  },
  {
   "cell_type": "code",
   "execution_count": null,
   "metadata": {
    "tags": [
     "execute_cell"
    ]
   },
   "outputs": [],
   "source": [
    "x = 3\n",
    "print(x, type(x))\n",
    "\n",
    "x = 5.0\n",
    "print(x, type(x))\n",
    "\n",
    "x = 3 + 4j\n",
    "print(x, type(x))"
   ]
  },
  {
   "cell_type": "code",
   "execution_count": null,
   "metadata": {
    "tags": [
     "execute_cell"
    ]
   },
   "outputs": [],
   "source": [
    "x = 5.0\n",
    "print(x + 1)    # Addition;\n",
    "print(x - 1)    # Subtraction;\n",
    "print(x * 2)    # Multiplication;\n",
    "print(x ** 2)   # Exponentiation;"
   ]
  },
  {
   "cell_type": "code",
   "execution_count": null,
   "metadata": {
    "tags": [
     "execute_cell"
    ]
   },
   "outputs": [],
   "source": [
    "x += 1      # x = x + 1을 의미\n",
    "print(x) \n",
    "x *= 2      # x = x * 1을 의미\n",
    "print(x) "
   ]
  },
  {
   "cell_type": "markdown",
   "metadata": {},
   "source": [
    "### 불리언(Booleans)\n",
    "\n",
    "**불리언(Boolean)** 타입은 `True` 또는 `False` 값을 가지며, 주로 **조건문, 논리 연산, 비교 연산**에서 사용됩니다.\n",
    "\n",
    "Python에서는 **불리언 연산자**로 `and`, `or`, `not`을 사용하며, 다른 프로그래밍 언어에서 흔히 쓰이는 기호(`&&`, `||`, `!`) 대신 직관적인 영어 단어를 사용합니다.\n"
   ]
  },
  {
   "cell_type": "code",
   "execution_count": null,
   "metadata": {
    "tags": [
     "execute_cell"
    ]
   },
   "outputs": [],
   "source": [
    "t, f = True, False\n",
    "print(type(t))"
   ]
  },
  {
   "cell_type": "code",
   "execution_count": null,
   "metadata": {
    "tags": [
     "execute_cell"
    ]
   },
   "outputs": [],
   "source": [
    "print(t and f)  # Logical AND;\n",
    "print(t or f)   # Logical OR;\n",
    "print(not t)    # Logical NOT;\n",
    "print(t != f)   # Logical XOR;"
   ]
  },
  {
   "cell_type": "markdown",
   "metadata": {},
   "source": [
    "비교 연산자는 불리언(Boolean) 타입의 값을 반환합니다.\n",
    "\n",
    "또한, 불리언 타입은 조건문에서 프로그램의 흐름을 제어하는 핵심 요소로 자주 사용됩니다."
   ]
  },
  {
   "cell_type": "code",
   "execution_count": null,
   "metadata": {
    "tags": [
     "execute_cell"
    ]
   },
   "outputs": [],
   "source": [
    "x = 10\n",
    "y = 20\n",
    "\n",
    "print(x > y)   # False\n",
    "print(x == 10) # True\n",
    "print(y != 10) # True\n",
    "print(x <= y)  # True\n",
    "\n",
    "if x < y:\n",
    "    print(\"x는 y보다 작습니다!\")"
   ]
  },
  {
   "cell_type": "markdown",
   "metadata": {},
   "source": [
    "### 문자열(Strings)"
   ]
  },
  {
   "cell_type": "code",
   "execution_count": null,
   "metadata": {
    "tags": [
     "execute_cell"
    ]
   },
   "outputs": [],
   "source": [
    "hello_var = 'hello'     # 문자열은 single quotes\n",
    "world_var = \"world\"     # 또는 double quotes로 감싸서 표현할 수 있으며, 둘 중 무엇을 사용하든 좋습니다.\n",
    "print(hello_var)\n",
    "print(len(world_var))   # 문자열의 길이를 반환한다."
   ]
  },
  {
   "cell_type": "code",
   "execution_count": null,
   "metadata": {
    "tags": [
     "execute_cell"
    ]
   },
   "outputs": [],
   "source": [
    "hw = hello_var + ' ' + world_var    # 문자열의 덧셈은 문자열 연결(string concatenation)으로 정의된다.\n",
    "print(hw)"
   ]
  },
  {
   "cell_type": "markdown",
   "metadata": {},
   "source": [
    "`f-string`을 사용하면 다른 데이터 타입과 문자열을 쉽게 결합할 수 있습니다."
   ]
  },
  {
   "cell_type": "code",
   "execution_count": null,
   "metadata": {
    "tags": [
     "execute_cell"
    ]
   },
   "outputs": [],
   "source": [
    "x = 10\n",
    "y = 3.141519\n",
    "hw12 = f\"{hello_var}_{world_var}_{x}_{y:.2f}\"\n",
    "print(hw12)  "
   ]
  },
  {
   "cell_type": "markdown",
   "metadata": {},
   "source": [
    "문자열을 다루는 다양한 메서드들이 잘 정의되어 있다."
   ]
  },
  {
   "cell_type": "code",
   "execution_count": null,
   "metadata": {
    "tags": [
     "execute_cell"
    ]
   },
   "outputs": [],
   "source": [
    "s = \"hello\"\n",
    "print(s.capitalize())  # Capitalize a string; prints \"Hello\"\n",
    "print(s.upper())       # Convert a string to uppercase; prints \"HELLO\"\n",
    "print(s.rjust(7))      # Right-justify a string, padding with spaces; prints \"  hello\"\n",
    "print(s.center(7))     # Center a string, padding with spaces; prints \" hello \"\n",
    "print(s.replace('l', '(ell)'))  # Replace all instances of one substring with another; prints \"he(ell)(ell)o\"\n",
    "print('  world '.strip())  # Strip leading and trailing whitespace; prints \"world\""
   ]
  },
  {
   "cell_type": "markdown",
   "metadata": {},
   "source": [
    "## 컨테이너 (Containers)\n",
    "컨테이너는 자료를 담는 그릇이라는 뜻으로, 파이썬에는, lists, dictionaries, sets, tuples등이 정의되어 있습니다.\n",
    "\n",
    "### 리스트 (Lists)\n",
    "리스트(List)는 **순서(Ordered)를 가지며, 중복을 허용하는 객체의 집합**입니다.  \n",
    "또한, **크기가 동적으로 변경 가능**하며, 서로 다른 타입의 데이터도 저장할 수 있습니다."
   ]
  },
  {
   "cell_type": "code",
   "execution_count": null,
   "metadata": {
    "tags": [
     "execute_cell"
    ]
   },
   "outputs": [],
   "source": [
    "empty_list = []     # Create an empty list\n",
    "empty_list = list() # Create an empty list\n",
    "\n",
    "xs = [3, 1, 2]      # Create a list\n",
    "print(xs)\n",
    "print(len(xs))      # 리스트의 길이를 반환한다.\n",
    "print(xs[1])        # 리스트 접근(인덱싱)에는 [] 연산자를 사용한다. index = 1 (2번째 자료) 에 접근. index는 0부터 시작한다.\n",
    "print(xs[-1])       # 음수 index는 리스트 끝에서 부터 접근한다."
   ]
  },
  {
   "cell_type": "code",
   "execution_count": null,
   "metadata": {
    "tags": [
     "execute_cell"
    ]
   },
   "outputs": [],
   "source": [
    "xs[2] = 'foo'    # 리스트는 다른 타입(type)의 자료를 담을 수 있다.\n",
    "print(xs)"
   ]
  },
  {
   "cell_type": "code",
   "execution_count": null,
   "metadata": {
    "tags": [
     "execute_cell"
    ]
   },
   "outputs": [],
   "source": [
    "xs.append('bar') # 리스트 끝에 새로운 자료를 추가할 수 있다.\n",
    "print(xs)  "
   ]
  },
  {
   "cell_type": "code",
   "execution_count": null,
   "metadata": {
    "tags": [
     "execute_cell"
    ]
   },
   "outputs": [],
   "source": [
    "x = xs.pop()    # pop()은 마지막 element를 꺼내고 반환한다.\n",
    "print(x, xs)"
   ]
  },
  {
   "cell_type": "code",
   "execution_count": null,
   "metadata": {
    "tags": [
     "execute_cell"
    ]
   },
   "outputs": [],
   "source": [
    "xs += [\"Abi\", \"Kevin\"] #리스트 간의 덧셈은 리스트를 concatenate 하는것이다\n",
    "print(xs)"
   ]
  },
  {
   "cell_type": "markdown",
   "metadata": {},
   "source": [
    "#### 슬라이싱(Slicing)\n",
    "Python에서는 개별 요소를 **인덱싱(Indexing)** 으로 접근할 수 있지만,  \n",
    "여러 개의 요소를 한 번에 가져오려면 **슬라이싱(Slicing)** 을 사용합니다.  "
   ]
  },
  {
   "cell_type": "code",
   "execution_count": null,
   "metadata": {
    "tags": [
     "execute_cell"
    ]
   },
   "outputs": [],
   "source": [
    "a = ['a', 'b', 'c', 'd', 'e']\n",
    "print(a)        \n",
    "print(a[2:])    # index 2부터 끝까지 가져온다.\n",
    "print(a[:2])    # 처음부터 index 2까지 가져온다 (2는 제외)\n",
    "print(a[2:4])   # index 2 부터 4까지 가져온다 (4는 제외)\n",
    "print(a[:])     # 전체 리스트를 가져온다.\n",
    "print(a[:-1])   # 음수 인덱스도 가능하다.\n",
    "print(a[::2])   # 처음부터 끝까지 2의 간격으로 가져온다"
   ]
  },
  {
   "cell_type": "code",
   "execution_count": null,
   "metadata": {
    "tags": [
     "execute_cell"
    ]
   },
   "outputs": [],
   "source": [
    "a[2:4] = [8, 9] # sublist에 새로운 값을 할당한다.\n",
    "print(a)        # Prints \"[0, 1, 8, 9, 4]\""
   ]
  },
  {
   "cell_type": "markdown",
   "metadata": {},
   "source": [
    "#### 루프 (Loops)\n",
    "리스트와 같이 순회가능한(iterable)객체는 `for` 문을을 이용하여 순회할 수 있습니다"
   ]
  },
  {
   "cell_type": "code",
   "execution_count": null,
   "metadata": {
    "tags": [
     "execute_cell"
    ]
   },
   "outputs": [],
   "source": [
    "animals = ['cat', 'dog', 'monkey']\n",
    "for animal in animals:\n",
    "    print(animal)"
   ]
  },
  {
   "cell_type": "markdown",
   "metadata": {},
   "source": [
    "인덱스(index)와 값(value)를 함께 가져오고 싶다면 enumerate() 함수를 사용할 수 있습니다."
   ]
  },
  {
   "cell_type": "code",
   "execution_count": null,
   "metadata": {
    "tags": [
     "execute_cell"
    ]
   },
   "outputs": [],
   "source": [
    "animals = ['cat', 'dog', 'monkey']\n",
    "for idx, animal in enumerate(animals):\n",
    "    print(f'index {idx}: {animal}')"
   ]
  },
  {
   "cell_type": "markdown",
   "metadata": {},
   "source": [
    "#### 리스트 컴프리헨션(List comprehensions)\n",
    "아래와 같이 리스트를 순회하며 거듭제곱을 하는 코드를 생각해보자."
   ]
  },
  {
   "cell_type": "code",
   "execution_count": null,
   "metadata": {
    "tags": [
     "execute_cell"
    ]
   },
   "outputs": [],
   "source": [
    "nums = [0, 1, 2, 3, 4]\n",
    "squares = []\n",
    "for x in nums:\n",
    "    squares.append(x ** 2)\n",
    "print(squares)"
   ]
  },
  {
   "cell_type": "markdown",
   "metadata": {},
   "source": [
    "리스트 컴프리헨션을 사용하면 이 코드를 훨씬 가독성있고 간단하게 만들 수 있습니다."
   ]
  },
  {
   "cell_type": "code",
   "execution_count": null,
   "metadata": {
    "tags": [
     "execute_cell"
    ]
   },
   "outputs": [],
   "source": [
    "nums = [0, 1, 2, 3, 4]\n",
    "squares = [x ** 2 for x in nums]\n",
    "print(squares)"
   ]
  },
  {
   "cell_type": "markdown",
   "metadata": {},
   "source": [
    "리스트 컴프리헨션은 조건문을 함께 이용할 수도 있습니다."
   ]
  },
  {
   "cell_type": "code",
   "execution_count": null,
   "metadata": {
    "tags": [
     "execute_cell"
    ]
   },
   "outputs": [],
   "source": [
    "nums = [0, 1, 2, 3, 4]\n",
    "even_squares = [x ** 2 for x in nums if x % 2 == 0]    # x가 짝수일 경우에만\n",
    "print(even_squares)"
   ]
  },
  {
   "cell_type": "markdown",
   "metadata": {},
   "source": [
    "### 딕셔너리 (Dictionaries)\n",
    "딕셔너리는 (key, value) 쌍으로 이루어진 자료형으로,\n",
    "리스트와 같이 순차적으로(sequential)으로 요소를 저장하거나 가져오는것이 아니라,\n",
    "키(key)를 이용하여 원하는 값(value) 빠르게 얻어올 수 있습니다.\n",
    "\n",
    "또한, 딕셔너리는 **해시(Hash) 기반의 자료구조**를 사용하여 **빠른 조회 성능**을 제공합니다."
   ]
  },
  {
   "cell_type": "code",
   "execution_count": null,
   "metadata": {
    "tags": [
     "execute_cell"
    ]
   },
   "outputs": [],
   "source": [
    "d = {'cat': 'cute', 'dog': 'furry'}  # Create a new dictionary with some data. \"key\" : \"value\"\n",
    "print(d['cat'])       # key = 'cat'에 해당하는 value를 가져옴\n",
    "print('cat' in d)     # 딕셔너리가 특정 key를 갖고있는지 확인"
   ]
  },
  {
   "cell_type": "code",
   "execution_count": null,
   "metadata": {
    "tags": [
     "execute_cell"
    ]
   },
   "outputs": [],
   "source": [
    "d['fish'] = 'wet'    # 새로운 (key, value)쌍을 추가함\n",
    "print(d)    "
   ]
  },
  {
   "cell_type": "code",
   "execution_count": null,
   "metadata": {
    "tags": [
     "execute_cell"
    ]
   },
   "outputs": [],
   "source": [
    "print(d['monkey'])  #  'monkey'가 key에 없으면 KeyError가 발생"
   ]
  },
  {
   "cell_type": "code",
   "execution_count": null,
   "metadata": {
    "tags": [
     "execute_cell"
    ]
   },
   "outputs": [],
   "source": [
    "print(d.get('monkey', 'N/A'))  # key에 해당하는 값이 있으면 value를 반환, 없으면 default값을 반환\n",
    "print(d.get('fish', 'N/A'))"
   ]
  },
  {
   "cell_type": "code",
   "execution_count": null,
   "metadata": {
    "tags": [
     "execute_cell"
    ]
   },
   "outputs": [],
   "source": [
    "del d['fish']                   # 딕셔너리에서 쌍 삭제하기\n",
    "print(d.get('fish', 'N/A'))     # \"fish\"는 더이상 없다."
   ]
  },
  {
   "cell_type": "markdown",
   "metadata": {},
   "source": [
    "딕셔너리도 이터러블(iterable)이다"
   ]
  },
  {
   "cell_type": "code",
   "execution_count": null,
   "metadata": {
    "tags": [
     "execute_cell"
    ]
   },
   "outputs": [],
   "source": [
    "d = {'person': 2, 'cat': 4, 'spider': 8}\n",
    "for animal in d:\n",
    "    print(f'A {animal} has {d[animal]} legs')"
   ]
  },
  {
   "cell_type": "markdown",
   "metadata": {},
   "source": [
    "(key, value) 쌍에 접근하고 싶으면 ``items``를 사용한다"
   ]
  },
  {
   "cell_type": "code",
   "execution_count": null,
   "metadata": {
    "tags": [
     "execute_cell"
    ]
   },
   "outputs": [],
   "source": [
    "d = {'person': 2, 'cat': 4, 'spider': 8}\n",
    "for animal, legs in d.items():\n",
    "    print(f'A {animal} has {legs} legs')"
   ]
  },
  {
   "cell_type": "markdown",
   "metadata": {},
   "source": [
    "#### Dictionary Comprehension\n",
    "딕셔너리도 리스트와 마찬가지로 딕셔너리 컴프리헨션(Dictionary Comprehension)을 사용하여 간결하게 생성할 수 있습니다.\n"
   ]
  },
  {
   "cell_type": "code",
   "execution_count": null,
   "metadata": {
    "tags": [
     "execute_cell"
    ]
   },
   "outputs": [],
   "source": [
    "nums = [0, 1, 2, 3, 4]\n",
    "even_num_to_square = {x: x ** 2 for x in nums if x % 2 == 0}\n",
    "print(even_num_to_square)"
   ]
  },
  {
   "cell_type": "markdown",
   "metadata": {},
   "source": [
    "### 집합 (Sets)\n",
    "\n",
    "집합(Set)은 순서가 없고(unordered) 중복을 허용하지 않는 요소들의 모음입니다.  "
   ]
  },
  {
   "cell_type": "code",
   "execution_count": null,
   "metadata": {
    "tags": [
     "execute_cell"
    ]
   },
   "outputs": [],
   "source": [
    "animals = {'cat', 'dog'}\n",
    "print('cat' in animals)  # Check if an element is in a set\n",
    "print('fish' in animals) "
   ]
  },
  {
   "cell_type": "code",
   "execution_count": null,
   "metadata": {
    "tags": [
     "execute_cell"
    ]
   },
   "outputs": [],
   "source": [
    "animals.add('fish')       # 새로운 요소를 집합에 추가\n",
    "print('fish' in animals)\n",
    "print(len(animals))       # Number of elements in a set;"
   ]
  },
  {
   "cell_type": "code",
   "execution_count": null,
   "metadata": {
    "tags": [
     "execute_cell"
    ]
   },
   "outputs": [],
   "source": [
    "animals.add('cat')       # 이미 있는 요소를 추가하면 아무런 일이 일어나지 않는다.\n",
    "print(len(animals))       \n",
    "animals.remove('cat')    # 요소 삭제\n",
    "print(len(animals))       "
   ]
  },
  {
   "cell_type": "markdown",
   "metadata": {},
   "source": [
    "집합을 이용하여 수학적 집합 연산(합집합, 교집합, 차집합 등)을 손쉽게 수행할 수 있습니다."
   ]
  },
  {
   "cell_type": "code",
   "execution_count": null,
   "metadata": {
    "tags": [
     "execute_cell"
    ]
   },
   "outputs": [],
   "source": [
    "A = {1, 2, 3, 4}\n",
    "B = {3, 4, 5, 6}\n",
    "\n",
    "print(A | B)  # 합집합 (Union)\n",
    "print(A & B)  # 교집합 (Intersection)\n",
    "print(A - B)  # 차집합 (Difference)\n",
    "print(A ^ B)  # 대칭 차집합 (Symmetric Difference)"
   ]
  },
  {
   "cell_type": "markdown",
   "metadata": {},
   "source": [
    "집합은 중복을 자동으로 제거하기 때문에 리스트에서 중복 요소를 제거할 때 유용합니다."
   ]
  },
  {
   "cell_type": "code",
   "execution_count": null,
   "metadata": {
    "tags": [
     "execute_cell"
    ]
   },
   "outputs": [],
   "source": [
    "numbers = [1, 2, 2, 3, 4, 4, 5]\n",
    "unique_numbers = set(numbers)\n",
    "print(unique_numbers)"
   ]
  },
  {
   "cell_type": "markdown",
   "metadata": {},
   "source": [
    "집합도 iterable입니다. 하지만 집합에는 순서가 없어서 순서를 예측할 수 없습니다."
   ]
  },
  {
   "cell_type": "code",
   "execution_count": null,
   "metadata": {
    "tags": [
     "execute_cell"
    ]
   },
   "outputs": [],
   "source": [
    "animals = {'cat', 'dog', 'fish'}\n",
    "for idx, animal in enumerate(animals):\n",
    "    print('#%d: %s' % (idx + 1, animal))"
   ]
  },
  {
   "cell_type": "markdown",
   "metadata": {},
   "source": [
    "#### Set comprehensions\n",
    "리스트, 딕셔너리와 동일하게 Set comprehensions을 이용할 수 있습니다."
   ]
  },
  {
   "cell_type": "code",
   "execution_count": null,
   "metadata": {
    "tags": [
     "execute_cell"
    ]
   },
   "outputs": [],
   "source": [
    "from math import sqrt\n",
    "print({int(sqrt(x)) for x in range(30)})"
   ]
  },
  {
   "cell_type": "markdown",
   "metadata": {},
   "source": [
    "### 튜플(Tuples)\n",
    "튜플은 순서가 있는(Ordered) 불변하는(immutable) 값들의 리스트입니다.\n",
    "- 튜플은 리스트와 유사하지만 **한 번 생성되면 수정(변경)할 수 없는 특징**을 가집니다.\n",
    "- 또한 튜플은 리스트와 달리 딕셔너리의 키(Key)로 사용되거나, 집합(Set)의 요소로 포함될 수 있습니다\n",
    "- 반면, 리스트(List)는 **변경 가능(Mutable)한 특성** 때문에 딕셔너리의 키나 집합의 요소로 사용할 수 없습니다."
   ]
  },
  {
   "cell_type": "code",
   "execution_count": null,
   "metadata": {
    "tags": [
     "execute_cell"
    ]
   },
   "outputs": [],
   "source": [
    "my_tuple  = (5, 6)       # 튜플 만들기\n",
    "print(type(my_tuple))\n",
    "print(my_tuple)"
   ]
  },
  {
   "cell_type": "code",
   "execution_count": null,
   "metadata": {
    "tags": [
     "execute_cell"
    ]
   },
   "outputs": [],
   "source": [
    "d = {(x, x + 1): x for x in range(10)}  # 튜플을 키로 가지는 딕셔너리\n",
    "print(d)"
   ]
  },
  {
   "cell_type": "code",
   "execution_count": null,
   "metadata": {
    "tags": [
     "execute_cell"
    ]
   },
   "outputs": [],
   "source": [
    "print(d[(1, 2)])\n",
    "print(d[my_tuple])       "
   ]
  },
  {
   "cell_type": "code",
   "execution_count": null,
   "metadata": {
    "tags": [
     "execute_cell"
    ]
   },
   "outputs": [],
   "source": [
    "my_tuple[0] = 1    # 튜플의 값은 변경할 수 없다 (immutable)"
   ]
  },
  {
   "cell_type": "markdown",
   "metadata": {},
   "source": [
    "### Mutable과 Immutable\n",
    "\n",
    "파이썬의 모든것은 객체(Object)이며, 이 객체들은 값이 변경가능한 mutable 객체와 변경할 수 없는 immutable 객체로 나뉩니다.\n",
    "\n",
    "#### Immutable : 한 번 생성되면 값을 변경할 수 없는 객체\n",
    "  - 숫자 (number)\n",
    "  - 문자열 (string)\n",
    "  - 튜플 (tuple)"
   ]
  },
  {
   "cell_type": "code",
   "execution_count": null,
   "metadata": {
    "tags": [
     "execute_cell"
    ]
   },
   "outputs": [],
   "source": [
    "x = \"hello\"\n",
    "print(x[2:5])\n",
    "x[3] = 'b'  # 문자열은 변경할 수 없다 (immutable)"
   ]
  },
  {
   "cell_type": "code",
   "execution_count": null,
   "metadata": {
    "tags": [
     "execute_cell"
    ]
   },
   "outputs": [],
   "source": [
    "print(\"memory address of x: \", id(x))\n",
    "x += \" world\"  # 문자열은 변경할 수 없으므로, += 연산은 기존 문자열을 수정하는 것이 아니라 새로운 문자열 객체가 생성됨.\n",
    "print(x) \n",
    "print(\"memory address of x: \", id(x))"
   ]
  },
  {
   "cell_type": "markdown",
   "metadata": {},
   "source": [
    "#### Mutable: 값을 직접 수정할 수 있는 객체\n",
    "  - 리스트 (list)\n",
    "  - 집합 (set)\n",
    "  - 딕셔너리 (dictionary)"
   ]
  },
  {
   "cell_type": "code",
   "execution_count": null,
   "metadata": {
    "tags": [
     "execute_cell"
    ]
   },
   "outputs": [],
   "source": [
    "x = [1,2,3,4]\n",
    "y = x            # NOT a copy, 새로운 변수에 참조 (reference)만 할당\n",
    "x.append(5)      # 리스트는 Mutable이므로 새로운 요소를 추가할 수 있음.\n",
    "\n",
    "print(x)\n",
    "print(y)        # x를 변경하면 y도 동일하게 변경됨.\n",
    "\n",
    "print(id(x) == id(y))  # x와 y는 같은 객체를 참조하고 있음."
   ]
  },
  {
   "cell_type": "markdown",
   "metadata": {},
   "source": [
    "<mark>(주의)</mark> mutable 객체는 그 안에 담겨 있는 값이 다른 함수나 연산에 의해 변경될 수 있으니 주의해야 합니다."
   ]
  },
  {
   "cell_type": "code",
   "execution_count": null,
   "metadata": {
    "tags": [
     "execute_cell"
    ]
   },
   "outputs": [],
   "source": [
    "def modify_list(lst):\n",
    "    lst.append(100)\n",
    "\n",
    "my_list = [1, 2, 3]\n",
    "modify_list(my_list)   # 원본 리스트가 변경됨\n",
    "print(my_list)"
   ]
  },
  {
   "cell_type": "markdown",
   "metadata": {},
   "source": [
    "Mutable 객체가 의도치 않게 변경되는 것을 방지하려면 Immutable 객체를 사용하거나, `copy()` 를 활용하여 복사본을 만들어 사용해야 합니다.\n",
    "\n",
    "\n",
    "`copy`함수는 얕은 복사 (shallow copy)를 수행하며, 외부 객체는 복사되지만 그 내부의 객체는 원본과 공유됩니다."
   ]
  },
  {
   "cell_type": "code",
   "execution_count": null,
   "metadata": {
    "tags": [
     "execute_cell"
    ]
   },
   "outputs": [],
   "source": [
    "def safe_modify_list(lst):\n",
    "    new_list = lst.copy()  # 원본을 복사하여 사용\n",
    "    new_list.append(100)\n",
    "    return new_list\n",
    "\n",
    "original_list = [1, 2, 3]\n",
    "new_list = safe_modify_list(original_list)\n",
    "\n",
    "print(original_list)\n",
    "print(new_list)\n"
   ]
  },
  {
   "cell_type": "markdown",
   "metadata": {},
   "source": [
    "하지만 copy()는 내부 중첩 리스트까지 복사하지 않습니다.\n",
    "\n",
    "즉, 내부 리스트가 수정되면 원본도 영향을 받을 수 있습니다."
   ]
  },
  {
   "cell_type": "code",
   "execution_count": null,
   "metadata": {
    "tags": [
     "execute_cell"
    ]
   },
   "outputs": [],
   "source": [
    "x = [[1, 2], [3, 4]]\n",
    "y = x.copy()  # 얕은 복사\n",
    "\n",
    "print(\"memory address of x: \", id(x))\n",
    "print(\"memory address of y: \", id(y))\n",
    "print(\"memory address of x[0]: \", id(x[0]))\n",
    "print(\"memory address of y[0]: \", id(y[0]))\n",
    "\n",
    "x[0].append(100)\n",
    "\n",
    "print(x)\n",
    "print(y) "
   ]
  },
  {
   "cell_type": "markdown",
   "metadata": {},
   "source": [
    "`copy.deepcopy()`를 사용하여 깊은 복사(Deep Copy) 를 수행하면 내부 객체까지 완전히 새로운 복사본이 생성되므로,\n",
    "원본과 독립적으로 동작합니다."
   ]
  },
  {
   "cell_type": "code",
   "execution_count": null,
   "metadata": {
    "tags": [
     "execute_cell"
    ]
   },
   "outputs": [],
   "source": [
    "import copy\n",
    "\n",
    "x = [[1, 2], [3, 4]]\n",
    "y = copy.deepcopy(x)  # 깊은 복사\n",
    "\n",
    "x[0].append(100)\n",
    "\n",
    "print(x)\n",
    "print(y)"
   ]
  },
  {
   "cell_type": "markdown",
   "metadata": {},
   "source": [
    "## 함수(Functions)\n",
    "\n",
    "파이썬 함수는 `def` 키워드를 이용해 정의한다.\n",
    "\n",
    "함수 호출에는 괄호 `()` 연산자를 사용한다.\n",
    "\n",
    "(참고) **\"Parameter(매개변수)\"** 와 **\"Argument(인자)\"** 는 서로 다른 개념입니다.\n",
    "\n",
    "| 용어 | 설명 |\n",
    "|------|----------------|\n",
    "| Parameter (매개변수) | 함수 정의 시 선언되는 변수 (값을 받을 자리) |\n",
    "| Argument (인자) | 함수 호출 시 전달되는 실제 값 |"
   ]
  },
  {
   "cell_type": "code",
   "execution_count": null,
   "metadata": {
    "tags": [
     "execute_cell"
    ]
   },
   "outputs": [],
   "source": [
    "def greet(name):                # 'name'은 함수의 매개변수(Parameter)\n",
    "    return f\"Hello, {name}!\"    # 함수를 호출한 곳에 결과 값을 반환\n",
    "\n",
    "print(greet(\"Alice\"))  # \"Alice\"는 인자(Argument)\n",
    "print(greet(\"Bob\"))    # \"Bob\"은 또 다른 인자(Argument)"
   ]
  },
  {
   "cell_type": "markdown",
   "metadata": {},
   "source": [
    "디폴트 매개변수(Default Parameter)를 이용해 매개변수의 기본값을 설정하면,\n",
    "함수를 호출할 때 해당 인자를 생략할 수 있습니다"
   ]
  },
  {
   "cell_type": "code",
   "execution_count": null,
   "metadata": {
    "tags": [
     "execute_cell"
    ]
   },
   "outputs": [],
   "source": [
    "def hello(name, loud=False):    # 'loud' 매개변수의 기본값을 False로 설정\n",
    "    if loud:\n",
    "        print(f'HELLO, {name.upper()}')\n",
    "    else:\n",
    "        print(f'Hello, {name}')\n",
    "        \n",
    "hello('Bob')                    # 기본값을 사용한 호출\n",
    "hello('Fred', loud=True)        # 기본값을 변경하여 호출"
   ]
  },
  {
   "cell_type": "markdown",
   "metadata": {},
   "source": [
    "### 가변인자\n",
    "#### Arbitrary Positional Arguments (`*args`)\n",
    "\n",
    "함수의 인자 개수가 가변적이라면, `*args`를 사용하여 임의의 개수의 위치 인자(positional argument)를 받을 수 있습니다."
   ]
  },
  {
   "cell_type": "code",
   "execution_count": null,
   "metadata": {
    "tags": [
     "execute_cell"
    ]
   },
   "outputs": [],
   "source": [
    "def sum_numbers(*args):  # Arbitrary Positional Arguments\n",
    "    print(type(args))  # 'args'는 튜플(tuple) 형태로 전달됨\n",
    "    return sum(args)\n",
    "\n",
    "print(sum_numbers(10, 15, 20))\n",
    "print(sum_numbers(5, 10, 15, 25, 30))"
   ]
  },
  {
   "cell_type": "markdown",
   "metadata": {},
   "source": [
    "print함수는 사실 가변인자를 이용하여 구현됩니다"
   ]
  },
  {
   "cell_type": "code",
   "execution_count": null,
   "metadata": {
    "tags": [
     "execute_cell"
    ]
   },
   "outputs": [],
   "source": [
    "print(\"My\", \"name\", \"is\")"
   ]
  },
  {
   "cell_type": "markdown",
   "metadata": {},
   "source": [
    "#### Arbitrary Keword Arguments (`**kwargs`)\n",
    "인자의 이름을 같이 전달하고 싶을 경우 키워드 인자(keyword argument)를 사용합니다"
   ]
  },
  {
   "cell_type": "code",
   "execution_count": null,
   "metadata": {
    "tags": [
     "execute_cell"
    ]
   },
   "outputs": [],
   "source": [
    "def greet_me(**kwargs):\n",
    "    print(type(kwargs))     # 'kwargs'는 딕셔너리 형식으로 전달된다\n",
    "    for key, value in kwargs.items():\n",
    "        print(f\"{key}: {value}\")\n",
    "\n",
    "# 함수 호출\n",
    "greet_me(name=\"민준\", message=\"안녕하세요\") "
   ]
  },
  {
   "cell_type": "markdown",
   "metadata": {},
   "source": [
    "딕셔너리를 이용해 키워드 가변 인자를 전달할 수도 있다"
   ]
  },
  {
   "cell_type": "code",
   "execution_count": null,
   "metadata": {
    "tags": [
     "execute_cell"
    ]
   },
   "outputs": [],
   "source": [
    "def greet_me(**kwargs):\n",
    "    for key, value in kwargs.items():\n",
    "        print(f\"{key}: {value}\")\n",
    "\n",
    "d = {str(x) : x for x in range(10)}\n",
    "greet_me(**d) "
   ]
  },
  {
   "cell_type": "markdown",
   "metadata": {},
   "source": [
    "`*args`와 `**kwargs` 를 함께 사용할 수도 있다."
   ]
  },
  {
   "cell_type": "code",
   "execution_count": null,
   "metadata": {
    "tags": [
     "execute_cell"
    ]
   },
   "outputs": [],
   "source": [
    "def print_info(name, age, *args, **kwargs):\n",
    "    print(f\"Name: {name}, Age: {age}\")\n",
    "    print(f\"Additional positional args: {args}\")\n",
    "    print(f\"Additional keyword args: {kwargs}\")\n",
    "\n",
    "profile = print_info(\"김지민\", 21, \"여행\", \"독서\", email=\"test@email.com\", city=\"서울\")\n",
    "print(profile)"
   ]
  },
  {
   "cell_type": "markdown",
   "metadata": {},
   "source": [
    "## 클래스 (Classes)\n",
    "Python은 객체 지향 프로그래밍(OOP, Object-Oriented Programming) 을 지원하는 언어이며,  \n",
    "**클래스(Class)** 는 **데이터(속성, Attributes)와 동작(메서드, Methods)** 를 하나로 묶어 **객체(Object)** 를 생성하는 템플릿 역할을 합니다.\n",
    "\n",
    "즉, 클래스는 특정한 데이터와 해당 데이터에 수행할 수 있는 동작을 정의하여, 이를 기반으로 여러 개의 객체를 생성하고 편리하게 다룰 수 있도록 합니다.\n",
    "이를 통해 코드의 재사용성, 유지보수성, 확장성이 향상됩니다."
   ]
  },
  {
   "cell_type": "code",
   "execution_count": null,
   "metadata": {
    "tags": [
     "execute_cell"
    ]
   },
   "outputs": [],
   "source": [
    "class Car:\n",
    "    def __init__(self, brand, model, year):\n",
    "        \"\"\"생성자(Constructor): 새로운 인스턴스를 생성하는 경우 처음에만 실행된다.\"\"\"\n",
    "        self.brand = brand\n",
    "        self.model = model\n",
    "        self.year = year\n",
    "        self.speed = 0  # 초기 속도\n",
    "\n",
    "    def accelerate(self):\n",
    "        \"\"\"자동차 속도를 증가시키는 인스턴트 메서드\"\"\"\n",
    "        self.speed += 10\n",
    "        print(f\"{self.brand} {self.model} 가속 중... 현재 속도: {self.speed} km/h\")\n",
    "\n",
    "    def brake(self):\n",
    "        \"\"\"자동차 속도를 줄이는 인스턴트 메서드\"\"\"\n",
    "        self.speed = max(0, self.speed - 10)\n",
    "        print(f\"{self.brand} {self.model} 감속 중... 현재 속도: {self.speed} km/h\")\n",
    "\n",
    "my_car = Car(\"Tesla\", \"Model S\", 2022) # Car 클래스의 새로운 인스턴스(instance)를 생성\n",
    "\n",
    "my_car.accelerate()\n",
    "my_car.accelerate()\n",
    "my_car.brake()"
   ]
  },
  {
   "cell_type": "markdown",
   "metadata": {},
   "source": [
    "## 매직 메서드(Magic Method)와 파이썬 객체\n",
    "\n",
    "Python에서는 모든 것이 객체(Object)이며, 클래스에 매직 메서드(Magic Method)를 구현하면, Python 문법과 자연스럽게 연동할 수 있습니다.\n",
    "\n",
    "``` python\n",
    "x = 5\n",
    "print(type(x))  # <class 'int'>\n",
    "print(x + 3)    # 8 (내부적으로 x.__add__(3) 호출)\n",
    "```\n",
    "\n",
    "매직 메서드는 `__init__`, `__str__`, `__contains__` 와 같이 이중 밑줄 (double underscore, `__`)로 시작하고 끝나는 특별한 메서드입니다. 이 메서드를 구현하면 파이썬 기본 연산자(+, in, ==)나 함수, 키워드 동작을 사용자 정의 가능하게 합니다.\n",
    "\n",
    "예를 들어:\n",
    "\n",
    "- `__init__()` → 객체가 생성될 때 자동 호출되는 생성자 메서드\n",
    "- `__str__()` → print() 함수에서 객체를 문자열로 변환할 때 호출\n",
    "- `__eq__()` → == 연산자가 사용될 때 호출\n",
    "\n",
    "\n",
    "### 컨테이너 (Container)\n",
    "- 컨테이너는 여러개의 요소를 포함할 수 있는 객체를 지칭합니다.\n",
    "- `__contains__()` 매직메서드를 구현하고 있으며, 이를 통해 특정 요소가 포함되어 있는지를 확인할 수 있습니다.\n",
    "- `__contains__()` 매직메서드는 ``in`` 키워드가 발견될때 호출됩니다.\n",
    "- 예시: `list`, `tuple`, `set`, `dict`"
   ]
  },
  {
   "cell_type": "code",
   "execution_count": null,
   "metadata": {
    "tags": [
     "execute_cell"
    ]
   },
   "outputs": [],
   "source": [
    "class Boundaries:\n",
    "    def __init__(self, width, height):\n",
    "        self.width = width\n",
    "        self.height = height\n",
    "\n",
    "    def __contains__(self, coord):\n",
    "        x, y = coord\n",
    "        return 0 <= x < self.width and 0 <= y < self.height\n",
    "    \n",
    "boundary = Boundaries(10, 5)\n",
    "print((2,3) in boundary)\n",
    "print((5,10) in boundary)"
   ]
  },
  {
   "cell_type": "markdown",
   "metadata": {},
   "source": [
    "### 이터러블 (Iterable, 반복 가능한 객체)\n",
    "- `for`루프를 통해 순회할 수 있으며, `iter()`함수를 호출하여 이터레이터(iterator)를 생성할 수 있는 객체.\n",
    "- `__iter__()` 또는 `__getitem__()`을 구현하면 Iterable이 됨.\n",
    "- 이터레이터(iterator)란 `__next__()` 메서드를 구현한 객체. `next()`를 호출하면 다음 값을 반환함\n",
    "  - `StopIteration`은 이터레이터가 더 이상 반환할 값이 없을 때 발생하는 예외\n",
    "- ``__iter__``와 ``__next__`` 매직 메서드를 구현하여 사용자 정의 이터러블 객체를 구현할 수 있다."
   ]
  },
  {
   "cell_type": "code",
   "execution_count": null,
   "metadata": {
    "tags": [
     "execute_cell"
    ]
   },
   "outputs": [],
   "source": [
    "from datetime import date, timedelta\n",
    "\n",
    "class DateRangeIterable:\n",
    "    \"\"\" 자체 이터레이터 메서드를 가지고 있는 이터러블\"\"\"\n",
    "\n",
    "    def __init__(self, start_date, end_date):\n",
    "        self.start_date = start_date\n",
    "        self.end_date = end_date\n",
    "        self._present_day = start_date\n",
    "\n",
    "    def __iter__(self):\n",
    "        return self\n",
    "\n",
    "    def __next__(self):\n",
    "        \"\"\"다음 날짜를 반환\"\"\"\n",
    "        if self._present_day >= self.end_date:\n",
    "            raise StopIteration()\n",
    "        today = self._present_day\n",
    "        self._present_day += timedelta(days=1)\n",
    "        return today\n",
    "    \n",
    "r = DateRangeIterable(date(2022, 1, 1), date(2022, 1, 5))\n",
    "r_iterator = iter(r)    # r.__iter__()를 호출함\n",
    "print(next(r_iterator)) # r.__next__()를 호출함\n",
    "print(next(r_iterator))\n",
    "print(next(r_iterator))\n",
    "print(next(r_iterator))\n",
    "print(next(r_iterator)) # StopIteration 예외 발생 (더 이상 요소 없음)"
   ]
  },
  {
   "cell_type": "markdown",
   "metadata": {},
   "source": [
    "For loop의 작동원리는 처음에 `iter()`함수를 호출 한 뒤, ``StopIteration`` 예외가 작성할 때 까지 ``next()``를 반복적으로 호출하는 것이다."
   ]
  },
  {
   "cell_type": "code",
   "execution_count": null,
   "metadata": {
    "tags": [
     "execute_cell"
    ]
   },
   "outputs": [],
   "source": [
    "for day in DateRangeIterable(date(2022, 1, 1), date(2022, 1, 5)):\n",
    "    print(day)"
   ]
  },
  {
   "cell_type": "markdown",
   "metadata": {},
   "source": [
    "### 시퀀스 (Sequence)\n",
    "- 요소들이 특정한 순서를 가지고 있는 컨테이너 객체로, `len()` 함수를 통해 총 길이를 알 수 있으며 인덱싱(`[]`)을 통해 개별 요소(element)에 접근할 수 있다.\n",
    "- `__getitem__`와 `__len__`을 구현하여 사용자 정의 시퀀스 객체를 구현할 수 있다.\n",
    "  - `__getitem__`: 객체가 인덱싱(`[]`) 될 때 호출된다.\n",
    "  - `__len__` : `len()` 함수 호출 시 호출되며 객체의 총 element 수를 반환한다.\n",
    "- 예시: `list`, `tuple`, `str`"
   ]
  },
  {
   "cell_type": "code",
   "execution_count": null,
   "metadata": {
    "tags": [
     "execute_cell"
    ]
   },
   "outputs": [],
   "source": [
    "class CustomItems:\n",
    "    def __init__(self, *values):\n",
    "        self._items = list(values)\n",
    "\n",
    "    def __getitem__(self, index):\n",
    "        print(\"Accessing item at index\", index)\n",
    "        return self._items[index]\n",
    "    \n",
    "    def __len__(self):\n",
    "        return len(self._items)\n",
    "        \n",
    "# Creating an object\n",
    "my_list = CustomItems(10, 20, 30, 40, 50)\n",
    "\n",
    "print(\"0-th item: \", my_list[0])    # calls my_list.__getitem__(0)\n",
    "print(\"2-th item: \", my_list[2])    #\n",
    "\n",
    "print(\"length: \", len(my_list))     # calls my_list.__len__()\n",
    "\n",
    "print(\"slicing result: \", my_list[1:3])                 # __getitem__이 정의되었으므로 slicing도 가능하다"
   ]
  },
  {
   "cell_type": "code",
   "execution_count": null,
   "metadata": {
    "tags": [
     "execute_cell"
    ]
   },
   "outputs": [],
   "source": [
    "for item in my_list:    # __getitem__ 이 정의되었으므로 iterable이다\n",
    "    print(item) "
   ]
  },
  {
   "cell_type": "markdown",
   "metadata": {},
   "source": [
    "### 호출가능한(callable) 객체\n",
    "\n",
    "파이썬에서 함수의 호출은 함수의 이름에 `()`를 붙여주면 된다. 왜 `()`를 붙여주면 함수가 호출될까?\n",
    "\n",
    "이는 클래스(타입)의 객체가 있을 때 `()`를 붙여주면 해당 클래스에 정의된 매직 메소드인 `__call__`이 호출되기 때문입니다.\n",
    "\n",
    "즉, 호출가능한(callable) 객체는 ``__call__`` 메직메서드를 구현한 클래스의 인스턴스를 의미합니다.\n",
    "\n",
    "함수도 사실 `__call__()`을 구현한 <b>객체(Object)</b>이므로, `()`로 호출할 수 있습니다."
   ]
  },
  {
   "cell_type": "code",
   "execution_count": null,
   "metadata": {
    "tags": [
     "execute_cell"
    ]
   },
   "outputs": [],
   "source": [
    "class ValueAccumulator:\n",
    "    \"\"\" 호출될 때마다 값을 누적하는 클래스 \"\"\"\n",
    "\n",
    "    def __init__(self):\n",
    "        self._counts = 0\n",
    "        \n",
    "    def __call__(self, val): \n",
    "        self._counts += val\n",
    "        return self._counts"
   ]
  },
  {
   "cell_type": "code",
   "execution_count": null,
   "metadata": {
    "tags": [
     "execute_cell"
    ]
   },
   "outputs": [],
   "source": [
    "va = ValueAccumulator() \n",
    "print(va(3))\n",
    "print(va(5))"
   ]
  },
  {
   "cell_type": "markdown",
   "metadata": {},
   "source": [
    "## 컨텍스트 관리자 (Context Manager)\n",
    "컨텍스트 관리자는 특정 작업의 전후에 자동으로 실행되는 동작을 정의할 때 유용합니다.\n",
    "예를 들어, 파일을 열고 나면 파일 디스크립터 누수를 방지하기 위해 반드시 닫아야 합니다."
   ]
  },
  {
   "cell_type": "code",
   "execution_count": null,
   "metadata": {
    "tags": [
     "execute_cell"
    ]
   },
   "outputs": [],
   "source": [
    "filename = \"test.txt\"\n",
    "def process_file(fd):\n",
    "    fd.write(\"hello world\\n\")\n",
    "\n",
    "fd = open(filename, \"w\")\n",
    "try:\n",
    "    process_file(fd)\n",
    "finally:\n",
    "    fd.close()  # 항상 파일을 닫아야 함."
   ]
  },
  {
   "cell_type": "markdown",
   "metadata": {},
   "source": [
    "Python의 `with` 문을 사용하면 파일을 자동으로 닫을 수 있어 편리합니다"
   ]
  },
  {
   "cell_type": "code",
   "execution_count": null,
   "metadata": {
    "tags": [
     "execute_cell"
    ]
   },
   "outputs": [],
   "source": [
    "with open(filename, 'w') as fd:\n",
    "    process_file(fd)    # with 블록을 벗어나면 파일이 자동으로 닫힘"
   ]
  },
  {
   "cell_type": "markdown",
   "metadata": {},
   "source": [
    "with 문은 컨텍스트 관리자로 진입하게 하는 역할을 하며,\n",
    "`open()`함수는 컨텍스트 관리자 프로토콜을 구현하고 있으므로, 블록이 끝나거나 예외가 발생한 경우에 모두 파일이 자동으로 닫힙니다.\n",
    "\n",
    "컨텍스트 관리자는 `__enter__` 와 `__exit__` 두 개의 매직 메서드로 구성된다. \n",
    "- `__enter__`: `with` 문에 진입할 때 실행되며, 반환값이 `as` 키워드의 변수에 할당됨.\n",
    "- `__exit__` : `with` 블록이 끝날 때 실행되며, 예외가 발생한 경우에도 호출됨."
   ]
  },
  {
   "cell_type": "code",
   "execution_count": null,
   "metadata": {
    "tags": [
     "execute_cell"
    ]
   },
   "outputs": [],
   "source": [
    "class FileManager:\n",
    "    def __init__(self, filename, mode):\n",
    "        self.filename = filename\n",
    "        self.mode = mode\n",
    "        self.fd = None\n",
    "\n",
    "    def __enter__(self):\n",
    "        \"\"\"with 블록 진입 시 실행\"\"\"\n",
    "        print(\"Opening file...\")\n",
    "        self.fd = open(self.filename, self.mode)\n",
    "        return self.fd          # as 변수에 할당됨\n",
    "\n",
    "    def __exit__(self, exc_type, exc_value, traceback):\n",
    "        \"\"\"with 블록 종료 시 실행 (예외 발생 여부와 무관)\"\"\"\n",
    "        print(\"Closing file...\")\n",
    "        if self.fd:\n",
    "            self.fd.close()     # 파일 자동 닫기\n",
    "        return False            # 예외 발생 시 with 블록 밖으로 예외 전파\n",
    "\n",
    "with FileManager(filename, \"w\") as fd:\n",
    "    process_file(fd)\n",
    "\n",
    "import os\n",
    "os.remove(filename) # removed unneeded file"
   ]
  },
  {
   "cell_type": "markdown",
   "metadata": {},
   "source": [
    "# <mark>실습</mark> `Matrix` 클래스 구현\n",
    "2차원 데이터를 다룰 수 있는 `Matrix` 클래스를 구현해 봅니다.\n",
    "\n",
    "1. `__init__(self, data)`\n",
    "   - `Matrix` 클래스는 중첩리스트(`list[list[int]]`, nested list)를 기반으로 하는 행렬 클래스입니다.\n",
    "   - 생성자에서는 전달받은 중첩리스트를 인스턴스 속성(Attribute)으로 저장합니다.\n",
    "   - 깊은 복사(deep copy) 수행하여 원본 데이터의 변경이 `Matrix` 인스턴스에 영향을 미치지 않도록 합니다\n",
    "\n",
    "2. `__getitem__(self, index)`\n",
    "   - 행렬의 특정 행 또는 개별 요소에 접근하는 기능을 제공합니다.\n",
    "   - **행 단위 접근**: `matrix[row]` → 해당 행(row)의 모든 요소를 리스트로 반환합니다.  \n",
    "   - **요소 단위 접근**: `matrix[row, col]` → 해당 요소(row, col)를 반환합니다. \n",
    "     - 첫번째 인덱스가 행(row), 두 번째 인덱스가 열(column)입니다. 즉, `matrix[row][col]`형태로 인덱싱합니다.\n",
    "   - 예시:\n",
    "        ```python\n",
    "        matrix = Matrix([\n",
    "            [1, 2, 3],      # Row 0\n",
    "            [4, 5, 6],      # Row 1\n",
    "            [7, 8, 9]       # Row 2\n",
    "        ])\n",
    "        print(matrix[1])       # 출력: [4, 5, 6]  (행 반환)\n",
    "        print(matrix[1, 2])    # 출력: 6  (요소 반환)\n",
    "        ``` \n",
    "\n",
    "3. `__call__(self, scalar)`\n",
    "   - 행렬의 모든 요소에 주어진 `scalar` 값을 곱하여 기존 행렬 데이터를 갱신합니다.\n",
    "   - list comprehension을 사용하여 코드를 1줄로 작성합니다\n",
    "   - 예시:\n",
    "        ``` python\n",
    "        matrix = Matrix([[1, 2], [3, 4]])\n",
    "        matrix(2)\n",
    "        print(matrix.data)\n",
    "        # 출력: [[2, 4], [6, 8]]\n",
    "        ```\n",
    "\n",
    "4. `get_elements_greater_than(self, threshold)`\n",
    "   - `threshold`보다 큰 요소들만 골라 1차원 리스트로 반환합니다.\n",
    "   - list comprehension을 사용하여 코드를 1줄로 작성합니다\n",
    "   - 예시:\n",
    "        ``` python\n",
    "        matrix = Matrix([[1, 2, 5], [6, 3, 8]])\n",
    "        print(matrix.get_elements_greater_than(4))\n",
    "        # 출력: [5, 6, 8]\n",
    "        ```\n",
    "5. `get_first_n_rows(self, n)`\n",
    "   - 처음 `n`개의 행을 골라 중첩리스트(`list[list[int]]`)로 반환합니다.\n",
    "   - 예시: \n",
    "        ```python\n",
    "        matrix = Matrix([[1, 2, 3], [4, 5, 6], [7, 8, 9]])\n",
    "        print(matrix.get_first_n_rows(2))\n",
    "        # 출력: \n",
    "        # [\n",
    "        #   [1, 2, 3],\n",
    "        #   [4, 5, 6]\n",
    "        # ]\n",
    "        ```\n",
    "\n",
    "6. `get_first_n_columns(self, n)`\n",
    "   - 처음 `n`개의 열을 골라 중첩리스트(`list[list[int]]`)로 반환합니다.\n",
    "   - 예시: \n",
    "        ```python\n",
    "        matrix = Matrix([[1, 2, 3], [4, 5, 6], [7, 8, 9]])\n",
    "        print(matrix.get_first_n_columns(2))\n",
    "        # 출력: \n",
    "        # [\n",
    "        #   [1, 2],\n",
    "        #   [4, 5],\n",
    "        #   [7, 8]\n",
    "        # ]\n",
    "        ``` "
   ]
  },
  {
   "cell_type": "code",
   "execution_count": null,
   "metadata": {},
   "outputs": [],
   "source": [
    "import copy\n",
    "\n",
    "class Matrix:\n",
    "    \"\"\"2차원 행렬을 다루는 클래스\"\"\"\n",
    "\n",
    "    def __init__(self, data):\n",
    "        \"\"\"\n",
    "        전달받은 데이터를 깊은 복사하여 저장한다.\n",
    "\n",
    "        Args:\n",
    "            data (list[list[int]]): 행렬 데이터를 담은 중첩 리스트\n",
    "        \"\"\"\n",
    "        self.data = ...     # TODO\n",
    "\n",
    "    def __getitem__(self, index):\n",
    "        \"\"\"\n",
    "        행렬의 특정 행 또는 개별 요소에 접근하는 기능을 제공합니다.\n",
    "        \n",
    "        Args:  \n",
    "            index (int) → 해당 행(row)의 모든 요소를 리스트로 반환합니다.\n",
    "            index`(tuple[int, int]) → 해당 요소(row, col)를 반환합니다.\n",
    "\n",
    "        Returns:\n",
    "            list[int] OR int\n",
    "        \"\"\"\n",
    "        if isinstance(index, tuple):        # Element-wise access\n",
    "            row, col = index\n",
    "            value = ...    # TODO\n",
    "        elif isinstance(index, int):        # Row-wise access\n",
    "            value = ...        # TODO\n",
    "\n",
    "        return value\n",
    "    \n",
    "\n",
    "    def __call__(self, scalar):\n",
    "        \"\"\"\n",
    "        행렬의 모든 요소에 주어진 스칼라 값을 곱하여 기존 행렬 데이터를 갱신합니다.\n",
    "        \n",
    "        Args:\n",
    "            scalar (int): scalar value to multiply by\n",
    "        \"\"\"\n",
    "        self.data = ...  # TODO. List comprehension을 이용하여 1줄로 작성하세요\n",
    "\n",
    "    def get_elements_greater_than(self, threshold):\n",
    "        \"\"\"threshold보다 큰 요소들만 골라 1차원 리스트로 반환합니다.\"\"\"\n",
    "        filtered_values_list = ...  # TODO\n",
    "        return filtered_values_list\n",
    "\n",
    "    def get_first_n_rows(self, n):\n",
    "        \"\"\"처음 n개의 행을 골라 중첩리스트(list[list[int]])로 반환합니다.\"\"\"\n",
    "        sliced_data = ...  # TODO\n",
    "        return sliced_data\n",
    "\n",
    "    def get_first_n_columns(self, n):\n",
    "        \"\"\"처음 n개의 열을 골라 중첩리스트(list[list[int]])로 반환합니다.\"\"\"\n",
    "        sliced_data = ...  # TODO. List comprehension을 이용하여 1줄로 작성하세요\n",
    "        return sliced_data\n"
   ]
  },
  {
   "cell_type": "markdown",
   "metadata": {},
   "source": [
    "아래 셀을 통하여 구현결과를 테스트 해보세요"
   ]
  },
  {
   "cell_type": "code",
   "execution_count": null,
   "metadata": {
    "tags": [
     "execute_cell"
    ]
   },
   "outputs": [],
   "source": [
    "data = [\n",
    "    [1, 2, 3, 4, 5],        # Row 0\n",
    "    [6, 7, 8, 9, 10],       # Row 1\n",
    "    [11, 12, 13, 14, 15]    # Row 2\n",
    "]\n",
    "matrix = Matrix(data)\n",
    "\n",
    "data[1][1] = 999\n",
    "print(\"[Testing __init__] Matrix.data: \", matrix.data) # data should not be changed by data[1][1] = 999\n",
    "\n",
    "print(\"[Testing __getitem__] matrix[1]: \", matrix[1])\n",
    "print(\"[Testing __getitem__] matrix[1, 2]: \", matrix[1, 2])\n",
    "\n",
    "matrix(2)\n",
    "print(\"[Testing __call__] Matrix.data after matrix(2):\", matrix.data)\n",
    "\n",
    "print(\"[Testing get_elements_greater_than] matrix.get_elements_greater_than(18):\", matrix.get_elements_greater_than(18))\n",
    "\n",
    "print(\"[Testing get_first_n_rows] matrix.get_first_n_rows(2):\", matrix.get_first_n_rows(2))\n",
    "\n",
    "print(\"[Testing get_first_n_columns] matrix.get_first_n_columns(2):\", matrix.get_first_n_columns(2))"
   ]
  },
  {
   "cell_type": "code",
   "execution_count": null,
   "metadata": {
    "tags": [
     "execute_cell"
    ]
   },
   "outputs": [],
   "source": [
    "data = [\n",
    "    [1, 2, 3, 4, 5],        # Row 0\n",
    "    [6, 7, 8, 9, 10],       # Row 1\n",
    "    [11, 12, 13, 14, 15]    # Row 2\n",
    "]\n",
    "\n",
    "matrix = Matrix(data)\n",
    "\n",
    "data[1][1] = 999\n",
    "assert matrix[1][1] != 999, f\"Test deep copy failed! Expected matrix[1][1] != 999, but got {matrix[1][1]}.\"\n",
    "\n",
    "\n",
    "assert matrix[1] == [6, 7, 8, 9, 10], f\"Test row 1 access failed! Expected {[6, 7, 8, 9, 10]}, but got {matrix[1]}.\"\n",
    "\n",
    "assert matrix[1,2] == 8, f\"Test element [1,2] access failed! Expected 8, but got {matrix[1,2]}.\"\n",
    "\n",
    "\n",
    "matrix(2)\n",
    "expected_scaled_matrix = [\n",
    "    [2, 4, 6, 8, 10],\n",
    "    [12, 14, 16, 18, 20],\n",
    "    [22, 24, 26, 28, 30]\n",
    "]\n",
    "assert matrix.data == expected_scaled_matrix, f\"Test scalar multiplication failed! Expected {expected_scaled_matrix}, but got {matrix.data}.\"\n",
    "\n",
    "expected_filtered_values = [18, 20, 22, 24, 26, 28, 30]\n",
    "actual_filtered_values =  matrix.get_elements_greater_than(16)\n",
    "assert set(actual_filtered_values) == set(expected_filtered_values), (\n",
    "    f\"get_elements_greater_than test failed! Expected elements {set(expected_filtered_values)}, but got {set(actual_filtered_values)}\"\n",
    ")\n",
    "\n",
    "expected_first_n_rows = [\n",
    "    [2, 4, 6, 8, 10],\n",
    "    [12, 14, 16, 18, 20],\n",
    "]\n",
    "assert matrix.get_first_n_rows(2) == expected_first_n_rows, f\"Test get_first_n_rows failed! Expected {expected_first_n_rows}, but got {matrix.get_first_n_rows(2)}.\"\n",
    "\n",
    "expected_first_n_columns = [\n",
    "    [2, 4],\n",
    "    [12, 14],\n",
    "    [22, 24]\n",
    "]\n",
    "assert matrix.get_first_n_columns(2) == expected_first_n_columns, f\"Test get_first_n_columns failed! Expected {expected_first_n_columns}, but got {matrix.get_first_n_columns(2)}.\"\n",
    "\n",
    "print(\"\\033[92m All tests passed!\")"
   ]
  },
  {
   "cell_type": "markdown",
   "metadata": {},
   "source": [
    "# <mark>실습</mark> `Timer` 클래스 구현\n",
    "\n",
    "`Timer` 클래스는 코드 실행 시간을 자동으로 측정해주는 컨텍스트 매니저(context manager) 입니다.\n",
    "이 클래스를 사용하면 `with` 문을 활용하여 특정 코드 블록의 실행 시간을 자동으로 기록하고 출력할 수 있습니다.\n",
    "\n",
    "## 실행 예시\n",
    "\n",
    "``` python\n",
    "with Timer() as t:\n",
    "    time.sleep(1) # 실행할 코드 블럭\n",
    "\n",
    "# 예상 출력: Execution Time: 1.000xxx seconds\n",
    "```\n",
    "\n",
    "힌트: `time.time()` 함수를 이용하세요 ([docs](https://docs.python.org/ko/3.13/library/time.html#time.time))"
   ]
  },
  {
   "cell_type": "code",
   "execution_count": null,
   "metadata": {},
   "outputs": [],
   "source": [
    "import time\n",
    "\n",
    "class Timer:\n",
    "    \"\"\"코드 실행 시간을 측정하는 컨텍스트 매니저\"\"\"\n",
    "    def __enter__(self):\n",
    "        \"\"\" 실행 시작 시간을 저장합니다. \"\"\"\n",
    "        self.start_time = ...   # TODO\n",
    "        return self\n",
    "\n",
    "    def __exit__(self, exc_type, exc_val, exc_tb):\n",
    "        \"\"\" 실행 종료 시간을 저장하고 경과 시간을 초(Seconds) 단위로 계산하여 출력 합니다.\"\"\"\n",
    "        self.end_time = ...     # TODO\n",
    "        self.elapsed_time = ...     # TODO\n",
    "        print(f\"Execution Time: {self.elapsed_time:.6f} seconds\")"
   ]
  },
  {
   "cell_type": "code",
   "execution_count": null,
   "metadata": {
    "tags": [
     "execute_cell"
    ]
   },
   "outputs": [],
   "source": [
    "with Timer() as t:\n",
    "    matrix = Matrix(data)\n",
    "    time.sleep(1)\n",
    "assert abs(t.elapsed_time - 1) < 0.1, \"Class Timer measurement is incorrect\"\n",
    "\n",
    "print(\"\\033[92m All tests passed!\")"
   ]
  },
  {
   "cell_type": "code",
   "execution_count": null,
   "metadata": {},
   "outputs": [],
   "source": []
  }
 ],
 "metadata": {
  "kernelspec": {
   "display_name": "torch2.3",
   "language": "python",
   "name": "python3"
  },
  "language_info": {
   "codemirror_mode": {
    "name": "ipython",
    "version": 3
   },
   "file_extension": ".py",
   "mimetype": "text/x-python",
   "name": "python",
   "nbconvert_exporter": "python",
   "pygments_lexer": "ipython3",
   "version": "3.11.9"
  }
 },
 "nbformat": 4,
 "nbformat_minor": 4
}
